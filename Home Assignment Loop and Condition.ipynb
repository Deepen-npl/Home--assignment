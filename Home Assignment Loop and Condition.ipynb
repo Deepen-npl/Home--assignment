{
 "cells": [
  {
   "cell_type": "markdown",
   "metadata": {},
   "source": [
    "# Loops and conditions\n",
    "Loops provide the method of iteration while condition allows or blocks the code execution when specified condition is meet.\n",
    "\n",
    "### \"For\" loop and \"While\" Loop\n",
    "* To iterate over the List. Let us print the items in the list."
   ]
  },
  {
   "cell_type": "code",
   "execution_count": null,
   "metadata": {},
   "outputs": [],
   "source": [
    "L =['apple','banana','kite','cellphone']\n",
    "for item in L:\n",
    "    print(item)"
   ]
  },
  {
   "cell_type": "markdown",
   "metadata": {},
   "source": [
    "* What is range?"
   ]
  },
  {
   "cell_type": "code",
   "execution_count": 21,
   "metadata": {},
   "outputs": [
    {
     "data": {
      "text/plain": [
       "(range(0, 5), range(1, 100), 4950, 10)"
      ]
     },
     "execution_count": 21,
     "metadata": {},
     "output_type": "execute_result"
    }
   ],
   "source": [
    "range(5), range(1,100), sum(range(100)), sum(range(1,5)) #range-0,1,2,3,4"
   ]
  },
  {
   "cell_type": "markdown",
   "metadata": {},
   "source": [
    "* To iterate with for loop and adding the iterating index (the value of 10*k) to a blank List L."
   ]
  },
  {
   "cell_type": "code",
   "execution_count": 24,
   "metadata": {},
   "outputs": [
    {
     "data": {
      "text/plain": [
       "[0, 3, 6, 9, 12, 15, 18, 21, 24, 27]"
      ]
     },
     "execution_count": 24,
     "metadata": {},
     "output_type": "execute_result"
    }
   ],
   "source": [
    "L = []\n",
    "for k in range(10):# K=0,1,2,3,4,5...\n",
    "    L.append(3*k)\n",
    "L"
   ]
  },
  {
   "cell_type": "markdown",
   "metadata": {},
   "source": [
    "* To create a double loop also called nested for loop. Lets create double for loop with i and j with range 5 and also populate the dictionary with key as (i,j)and value as 10*i+j when i=j and 100*1+j when i!=j."
   ]
  },
  {
   "cell_type": "code",
   "execution_count": null,
   "metadata": {},
   "outputs": [],
   "source": [
    "D = {}\n",
    "for i in range(5):\n",
    "    for j in range(5):\n",
    "        if i == j :\n",
    "            D.update({(i,j) : 10*i+j})\n",
    "        elif i!= j:\n",
    "            D.update({(i,j) : 100*i+j})\n",
    "            \n",
    "print(D)"
   ]
  },
  {
   "cell_type": "code",
   "execution_count": null,
   "metadata": {
    "scrolled": true
   },
   "outputs": [],
   "source": [
    "for item,j,k in zip(['apple','banana','kite','cellphone','pen'],\\\n",
    "                    range(5),[12,45,45,67,34]):\n",
    "    print(item,\"|\",j,\"|\",k)"
   ]
  },
  {
   "cell_type": "markdown",
   "metadata": {},
   "source": [
    "* To iterate and ennumerate both together."
   ]
  },
  {
   "cell_type": "code",
   "execution_count": null,
   "metadata": {},
   "outputs": [],
   "source": [
    "for i, item in enumerate(['apple','banana','kite','cellphone']):\n",
    "    print(\"The\",i,\"the element is:\", item)"
   ]
  },
  {
   "cell_type": "markdown",
   "metadata": {},
   "source": [
    "* To create a list with for loop."
   ]
  },
  {
   "cell_type": "code",
   "execution_count": null,
   "metadata": {},
   "outputs": [],
   "source": [
    "A = [10*k**2+5*k+1 for k in range(10)]#k=0,1,2,3,4,5,6,7,8,9\n",
    "print(A)"
   ]
  },
  {
   "cell_type": "code",
   "execution_count": null,
   "metadata": {},
   "outputs": [],
   "source": [
    "AA = [[10*x**2+5*y+1 for x in range(3)] for y in range(3)]\n",
    "print(AA)###(x,y)=[(0,0),(1,0),(2,0)],[(0,1),(1,1),(2,1)],[(0,2),(1,2),(2,2)]"
   ]
  },
  {
   "cell_type": "markdown",
   "metadata": {},
   "source": [
    "* To iterate over List of List"
   ]
  },
  {
   "cell_type": "code",
   "execution_count": null,
   "metadata": {},
   "outputs": [],
   "source": [
    "for i in range(3): \n",
    "    for j in range(3):\n",
    "        print(\"The\",\"(\",i,\",\",j,\")\",\"th element is: \",AA[i][j])"
   ]
  },
  {
   "cell_type": "markdown",
   "metadata": {},
   "source": [
    "* To use while loop."
   ]
  },
  {
   "cell_type": "code",
   "execution_count": null,
   "metadata": {},
   "outputs": [],
   "source": [
    "i = 0\n",
    "while i <5:\n",
    "    print( i, \"th turn\")\n",
    "    i = i+1"
   ]
  },
  {
   "cell_type": "markdown",
   "metadata": {},
   "source": [
    "* To break for loop implementing if condition."
   ]
  },
  {
   "cell_type": "code",
   "execution_count": null,
   "metadata": {},
   "outputs": [],
   "source": [
    "for i in range(10):\n",
    "    print(i)\n",
    "    if i ==3:\n",
    "        break"
   ]
  },
  {
   "cell_type": "markdown",
   "metadata": {},
   "source": [
    "* To test the if conditions:"
   ]
  },
  {
   "cell_type": "code",
   "execution_count": null,
   "metadata": {},
   "outputs": [],
   "source": [
    "import random as random\n",
    "\n",
    "for i in range(10):\n",
    "    r = random.uniform(1,10)\n",
    "    if r<2 and r>0:\n",
    "        print(\"It is samaller then 2 and greater then 1\",\"|\", r)\n",
    "    elif r<4 and r>2:\n",
    "        print(\"It is samaller then 4 and greater then 2\",\"|\", r)\n",
    "    elif r<6 and r>4:\n",
    "        print(\"It is samaller then 6 and greater then 4\",\"|\", r)\n",
    "    elif r<8 and r>6:\n",
    "        print(\"It is samaller then 8 and greater then 6\",\"|\", r)\n",
    "    elif r<10 and r>8:\n",
    "        print(\"It is samaller then 10 and greater then 8\",\"|\", r)"
   ]
  },
  {
   "cell_type": "markdown",
   "metadata": {},
   "source": [
    "* To find sum from 0 to 1000."
   ]
  },
  {
   "cell_type": "code",
   "execution_count": null,
   "metadata": {},
   "outputs": [],
   "source": [
    "s = 0\n",
    "for i in range(1000+1):\n",
    "    s = s+i\n",
    "s"
   ]
  },
  {
   "cell_type": "markdown",
   "metadata": {},
   "source": [
    "* To find sum from 0 to 1000 (only even)"
   ]
  },
  {
   "cell_type": "code",
   "execution_count": null,
   "metadata": {},
   "outputs": [],
   "source": [
    "s = 0\n",
    "LE = [] #list even\n",
    "for i in range(1001):\n",
    "    if i%2 ==0:\n",
    "        LE.append(i)\n",
    "        s = s+i\n",
    "s, sum(LE)"
   ]
  },
  {
   "cell_type": "code",
   "execution_count": null,
   "metadata": {},
   "outputs": [],
   "source": []
  }
 ],
 "metadata": {
  "kernelspec": {
   "display_name": "Python 3",
   "language": "python",
   "name": "python3"
  },
  "language_info": {
   "codemirror_mode": {
    "name": "ipython",
    "version": 3
   },
   "file_extension": ".py",
   "mimetype": "text/x-python",
   "name": "python",
   "nbconvert_exporter": "python",
   "pygments_lexer": "ipython3",
   "version": "3.7.6"
  }
 },
 "nbformat": 4,
 "nbformat_minor": 4
}
