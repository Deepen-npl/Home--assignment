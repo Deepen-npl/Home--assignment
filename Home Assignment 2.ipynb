{
 "cells": [
  {
   "cell_type": "markdown",
   "metadata": {},
   "source": [
    "## Deependra Parajuli\n",
    "### Home assignments:\n",
    "1. Please create one github repository and upload\n",
    "your self created jupyter notebook (notebook should contain title,\n",
    "subtitle, paragraph, math equation and picture)."
   ]
  },
  {
   "cell_type": "markdown",
   "metadata": {},
   "source": [
    "## Sol-Gel Technique\n",
    "#### Definition\n",
    "Sol-gel is a wet-chemical-based-self-assembly process of nanomaterial formation. The sol-gel process, as the name implies, involves the evolution of networks through the formation of a colloidal solution suspension(sol) and gelation of the sol to form a network in a continuous liquid phase(gel). The precursors used for synthesizing the colloids generally consists of metallic ions and ligands, which are elements surrounded by various reactive species. Metal alkoxides(e.g. aluminates, titanates, borates, cuprates, etc.) and alkoxysilanes(e.g. tetramethoxysilane, TMOS and tetraethoxysilane, TEOS) are most popular because they react readily with water. In some cases, few alkoxides are immiscible in water; in that situation some homogenizing agents such as alcohols are used as mutual solvents to facilitate miscibility of these materials. In general, sol-gel formation occurs in four steps:\n",
    "1) Hydrolysis and alcoholysis\n",
    "2) Water and alcohol condensation and polymerization of monomers to form particles 3) Growth of particles 4) Agglomerations of the particles followed by the formation of networks throughout the liquid medium resulting in thick gel."
   ]
  },
  {
   "cell_type": "markdown",
   "metadata": {},
   "source": [
    "![img](https://upload.wikimedia.org/wikipedia/commons/thumb/5/52/SolGelTechnologyStages.svg/2000px-SolGelTechnologyStages.svg.png)\n",
    "Fig: Schematic summary of Sol-Gel process for deposition of various micro/nano-structures."
   ]
  },
  {
   "cell_type": "markdown",
   "metadata": {},
   "source": [
    "# Some important formulae"
   ]
  },
  {
   "cell_type": "markdown",
   "metadata": {},
   "source": [
    "$(a+b)^2=a^2+2ab+b^2$\n"
   ]
  },
  {
   "cell_type": "markdown",
   "metadata": {},
   "source": [
    "$(\\alpha +\\beta)^2=\\alpha^2+2\\alpha\\beta+\\beta^2$"
   ]
  },
  {
   "cell_type": "code",
   "execution_count": 9,
   "metadata": {},
   "outputs": [],
   "source": [
    "#$(a+b)^2=a^2+2ab+b^2$\n",
    "#$(\\alpha +\\beta)^2=\\alpha^2+2\\alpha\\beta+\\beta^2$\n",
    "#![img](copy image location)"
   ]
  },
  {
   "cell_type": "code",
   "execution_count": null,
   "metadata": {},
   "outputs": [],
   "source": []
  }
 ],
 "metadata": {
  "kernelspec": {
   "display_name": "Python 3",
   "language": "python",
   "name": "python3"
  },
  "language_info": {
   "codemirror_mode": {
    "name": "ipython",
    "version": 3
   },
   "file_extension": ".py",
   "mimetype": "text/x-python",
   "name": "python",
   "nbconvert_exporter": "python",
   "pygments_lexer": "ipython3",
   "version": "3.7.6"
  }
 },
 "nbformat": 4,
 "nbformat_minor": 4
}
